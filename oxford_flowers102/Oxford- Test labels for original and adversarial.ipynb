{
  "nbformat": 4,
  "nbformat_minor": 0,
  "metadata": {
    "colab": {
      "provenance": [],
      "gpuType": "T4"
    },
    "kernelspec": {
      "name": "python3",
      "display_name": "Python 3"
    },
    "language_info": {
      "name": "python"
    },
    "accelerator": "GPU"
  },
  "cells": [
    {
      "cell_type": "code",
      "source": [
        "original_test_loss, original_test_acc = model.evaluate(test_dataset)\n",
        "print(f'Original Test Accuracy: {original_test_acc}')\n",
        "adversarial_test_loss, adversarial_test_acc = model.evaluate(adversarial_test_images, y=test_labels.numpy())\n",
        "print(f'Adversarial Test Accuracy: {adversarial_test_acc}')\n",
        "original_test_predictions = model.predict(test_images.numpy())\n",
        "original_test_labels = np.argmax(original_test_predictions, axis=1)\n",
        "print('Original Test Labels:', original_test_labels)\n",
        "adversarial_test_predictions = model.predict(adversarial_test_images)\n",
        "adversarial_test_labels = np.argmax(adversarial_test_predictions, axis=1)\n",
        "print('Adversarial Test Labels:', adversarial_test_labels)"
      ],
      "metadata": {
        "colab": {
          "base_uri": "https://localhost:8080/"
        },
        "id": "y6YrYy1gKYnu",
        "outputId": "7f11498b-7be9-40f7-91b6-3f45b22c625b"
      },
      "execution_count": null,
      "outputs": [
        {
          "output_type": "stream",
          "name": "stdout",
          "text": [
            "73/73 [==============================] - 71s 99ms/step - loss: 0.5452 - accuracy: 0.7654\n",
            "Original Test Accuracy: 0.7653631567955017\n",
            "1/1 [==============================] - 0s 49ms/step - loss: 10.6918 - accuracy: 0.0000e+00\n",
            "Adversarial Test Accuracy: 0.0\n",
            "1/1 [==============================] - 0s 27ms/step\n",
            "Original Test Labels: [1 1 1 1 0 1 0 1 0 1 1 0 0 1 0 1 0 1 0 1 0 1 1 0 0 1 0 1 1 0 1 0]\n",
            "1/1 [==============================] - 0s 27ms/step\n",
            "Adversarial Test Labels: [0 0 0 0 1 1 1 0 1 0 0 1 1 0 1 0 1 0 0 0 1 1 0 1 1 0 0 0 1 1 1 1]\n"
          ]
        }
      ]
    },
    {
      "cell_type": "code",
      "source": [
        "pip install adversarial-robustness-toolbox\n"
      ],
      "metadata": {
        "colab": {
          "base_uri": "https://localhost:8080/"
        },
        "id": "Su5Dw0NM27Hq",
        "outputId": "2db86541-d87f-4987-ac55-7d2fc9b5d65c"
      },
      "execution_count": 9,
      "outputs": [
        {
          "output_type": "stream",
          "name": "stdout",
          "text": [
            "Collecting adversarial-robustness-toolbox\n",
            "  Downloading adversarial_robustness_toolbox-1.17.1-py3-none-any.whl (1.7 MB)\n",
            "\u001b[2K     \u001b[90m━━━━━━━━━━━━━━━━━━━━━━━━━━━━━━━━━━━━━━━━\u001b[0m \u001b[32m1.7/1.7 MB\u001b[0m \u001b[31m14.0 MB/s\u001b[0m eta \u001b[36m0:00:00\u001b[0m\n",
            "\u001b[?25hRequirement already satisfied: numpy>=1.18.0 in /usr/local/lib/python3.10/dist-packages (from adversarial-robustness-toolbox) (1.25.2)\n",
            "Requirement already satisfied: scipy>=1.4.1 in /usr/local/lib/python3.10/dist-packages (from adversarial-robustness-toolbox) (1.11.4)\n",
            "Requirement already satisfied: scikit-learn>=0.22.2 in /usr/local/lib/python3.10/dist-packages (from adversarial-robustness-toolbox) (1.2.2)\n",
            "Requirement already satisfied: six in /usr/local/lib/python3.10/dist-packages (from adversarial-robustness-toolbox) (1.16.0)\n",
            "Requirement already satisfied: setuptools in /usr/local/lib/python3.10/dist-packages (from adversarial-robustness-toolbox) (67.7.2)\n",
            "Requirement already satisfied: tqdm in /usr/local/lib/python3.10/dist-packages (from adversarial-robustness-toolbox) (4.66.2)\n",
            "Requirement already satisfied: joblib>=1.1.1 in /usr/local/lib/python3.10/dist-packages (from scikit-learn>=0.22.2->adversarial-robustness-toolbox) (1.3.2)\n",
            "Requirement already satisfied: threadpoolctl>=2.0.0 in /usr/local/lib/python3.10/dist-packages (from scikit-learn>=0.22.2->adversarial-robustness-toolbox) (3.3.0)\n",
            "Installing collected packages: adversarial-robustness-toolbox\n",
            "Successfully installed adversarial-robustness-toolbox-1.17.1\n"
          ]
        }
      ]
    }
  ]
}