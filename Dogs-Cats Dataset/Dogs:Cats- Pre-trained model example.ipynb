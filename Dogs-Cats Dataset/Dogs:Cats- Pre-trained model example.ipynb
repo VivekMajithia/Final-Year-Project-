{
  "nbformat": 4,
  "nbformat_minor": 0,
  "metadata": {
    "colab": {
      "provenance": [],
      "gpuType": "T4"
    },
    "kernelspec": {
      "name": "python3",
      "display_name": "Python 3"
    },
    "language_info": {
      "name": "python"
    },
    "accelerator": "GPU",
    "widgets": {
      "application/vnd.jupyter.widget-state+json": {}
    }
  },
  "cells": [
    {
      "cell_type": "code",
      "source": [],
      "metadata": {
        "id": "5Re_aDPdubnn"
      },
      "execution_count": null,
      "outputs": []
    },
    {
      "cell_type": "code",
      "execution_count": null,
      "metadata": {
        "colab": {
          "base_uri": "https://localhost:8080/",
          "height": 958,
          "referenced_widgets": [
            "04266b549f5541228cb589a1dfd32837",
            "d0bb6739b78648df87666914f8cd87c5",
            "75fee4de234d4113b3ee8ee5921d3be4",
            "ab00e68515c7412facb3187fd08f9b57",
            "20c24735561a4f4cbf119e8394e139da",
            "d1794272014e457b95be8b5455a3f308",
            "cc33950c5bc5483baa8c6bdeff3795eb",
            "c53cf1feb8234990897db629b0be3b53",
            "c12db745b9db4c709043e4b5878b2470",
            "f2a563473610420680418ffda4c32472",
            "2990a75e66e2405f83012147e44ef1d1",
            "d53e191b897b4d3cad6dbf1377a0b65c",
            "64d1df1adb8e4703810159f17cacdfe8",
            "f772b9ae68944ba3bcdfbb131444f41c",
            "edb07434a76c400880dcd68eee68a951",
            "7a413023f0eb4a158ed358163a5f5cd9",
            "d8a7bd0cecb943cbba8d3219568391be",
            "ad60f6613476496a946d398b6e58b39b",
            "77029ae3f12847779713c8dce44b13ba",
            "9ac740950e8749e0a35c40d18d474ada",
            "afa6c269727a4dc799f0ada891da43cb",
            "7de2dde4c0d545778bf65c928df01959",
            "067561cc913a4cb091113ffa777a2af0",
            "63aed289effb42279e9cb8f5ce3518d1",
            "fbb0be82359445f0b04b5a03ff820402",
            "3a44b1de6ab94b93868e39dc3deb4942",
            "225c3dab950d4c1583681c1979c753d0",
            "ec746f06fcb941c4b14a6e00daea4936",
            "df7fd5c110fb4484b360207e895ce8c6",
            "a1545d77b1ff49d2afac86355f3b4a13",
            "f764db5869fa4ddb8f4743a9b9d7a948",
            "7396b42c36f3479aac9f5d5f07ee9bc3",
            "040af28fa5584cedaf4d4381edb22f5a",
            "6c854c79c46b44bfbbe6f000fb7f212f",
            "7eee6fac867340168fecbda94188f72c",
            "34eb0a41a6244efa9d5f076dc4708def",
            "25c6cde4343e4e4c9a44a1a012576fb5",
            "f1444e41cb214c9682992d220414ee0b",
            "c3876bb04b23491caa0be9e60e22a184",
            "ad33e105ebc84468beaf156abe13e402",
            "4e3ecadd6a994bf89f2851a0cffcb743",
            "80e86bed089047b2b4908a7a83785a6a",
            "c054a8af65574167be57019ca5204fdd",
            "18a127ba06a048139ffa3c52ba2502f4",
            "2cd4f91e6b2c4f29811fb8e54c87fa9f",
            "40b0fad512e14b79ab08a5ccd5001afa",
            "7b0faf7604284022a15a72093a294583",
            "cfb6722fd4dc48ffbb308dc87519543c",
            "48de0ef689304027925b3d58e475d6ee",
            "6f0b73cb24e14be48b207c400cff5983",
            "865defa51c6943b5ad25ced6d1512dec",
            "b42aa1219df34447a172f4a09b5d7949",
            "85e1e623b64d4b94b92a63ba745057f1",
            "ed01cfce9337437a8d5a92bab76553cb",
            "414377a4e9f9402790635b16f0593cec"
          ]
        },
        "id": "r1GgBcwd15WF",
        "outputId": "616a0d4e-f3f8-4ee4-8c05-1d18ad96b73e"
      },
      "outputs": [
        {
          "name": "stdout",
          "output_type": "stream",
          "text": [
            "Downloading and preparing dataset 786.68 MiB (download: 786.68 MiB, generated: Unknown size, total: 786.68 MiB) to /root/tensorflow_datasets/cats_vs_dogs/4.0.0...\n"
          ]
        },
        {
          "data": {
            "application/vnd.jupyter.widget-view+json": {
              "model_id": "04266b549f5541228cb589a1dfd32837",
              "version_major": 2,
              "version_minor": 0
            },
            "text/plain": [
              "Dl Completed...: 0 url [00:00, ? url/s]"
            ]
          },
          "metadata": {},
          "output_type": "display_data"
        },
        {
          "data": {
            "application/vnd.jupyter.widget-view+json": {
              "model_id": "d53e191b897b4d3cad6dbf1377a0b65c",
              "version_major": 2,
              "version_minor": 0
            },
            "text/plain": [
              "Dl Size...: 0 MiB [00:00, ? MiB/s]"
            ]
          },
          "metadata": {},
          "output_type": "display_data"
        },
        {
          "data": {
            "application/vnd.jupyter.widget-view+json": {
              "model_id": "067561cc913a4cb091113ffa777a2af0",
              "version_major": 2,
              "version_minor": 0
            },
            "text/plain": [
              "Generating splits...:   0%|          | 0/1 [00:00<?, ? splits/s]"
            ]
          },
          "metadata": {},
          "output_type": "display_data"
        },
        {
          "data": {
            "application/vnd.jupyter.widget-view+json": {
              "model_id": "6c854c79c46b44bfbbe6f000fb7f212f",
              "version_major": 2,
              "version_minor": 0
            },
            "text/plain": [
              "Generating train examples...:   0%|          | 0/23262 [00:00<?, ? examples/s]"
            ]
          },
          "metadata": {},
          "output_type": "display_data"
        },
        {
          "name": "stderr",
          "output_type": "stream",
          "text": [
            "WARNING:absl:1738 images were corrupted and were skipped\n"
          ]
        },
        {
          "data": {
            "application/vnd.jupyter.widget-view+json": {
              "model_id": "2cd4f91e6b2c4f29811fb8e54c87fa9f",
              "version_major": 2,
              "version_minor": 0
            },
            "text/plain": [
              "Shuffling /root/tensorflow_datasets/cats_vs_dogs/4.0.0.incompleteE00VVO/cats_vs_dogs-train.tfrecord*...:   0%|…"
            ]
          },
          "metadata": {},
          "output_type": "display_data"
        },
        {
          "name": "stdout",
          "output_type": "stream",
          "text": [
            "Dataset cats_vs_dogs downloaded and prepared to /root/tensorflow_datasets/cats_vs_dogs/4.0.0. Subsequent calls will reuse this data.\n",
            "Epoch 1/30\n",
            "582/582 [==============================] - 131s 177ms/step - loss: 4.6340 - accuracy: 0.9305 - val_loss: 2.5488 - val_accuracy: 0.9310\n",
            "Epoch 2/30\n",
            "582/582 [==============================] - 98s 168ms/step - loss: 1.3647 - accuracy: 0.9742 - val_loss: 0.8003 - val_accuracy: 0.9512\n",
            "Epoch 3/30\n",
            "582/582 [==============================] - 93s 159ms/step - loss: 0.3863 - accuracy: 0.9816 - val_loss: 0.2640 - val_accuracy: 0.9650\n",
            "Epoch 4/30\n",
            "582/582 [==============================] - 92s 158ms/step - loss: 0.1228 - accuracy: 0.9858 - val_loss: 0.2619 - val_accuracy: 0.9435\n",
            "Epoch 5/30\n",
            "582/582 [==============================] - 99s 169ms/step - loss: 0.0552 - accuracy: 0.9893 - val_loss: 0.1085 - val_accuracy: 0.9675\n",
            "Epoch 6/30\n",
            "582/582 [==============================] - 93s 159ms/step - loss: 0.0360 - accuracy: 0.9911 - val_loss: 0.1677 - val_accuracy: 0.9581\n",
            "Epoch 7/30\n",
            "582/582 [==============================] - 101s 173ms/step - loss: 0.0314 - accuracy: 0.9925 - val_loss: 0.0601 - val_accuracy: 0.9837\n",
            "Epoch 8/30\n",
            "582/582 [==============================] - 91s 156ms/step - loss: 0.0301 - accuracy: 0.9921 - val_loss: 0.0819 - val_accuracy: 0.9774\n",
            "Epoch 9/30\n",
            "582/582 [==============================] - 92s 159ms/step - loss: 0.0262 - accuracy: 0.9929 - val_loss: 0.0900 - val_accuracy: 0.9776\n",
            "Epoch 10/30\n",
            "582/582 [==============================] - 100s 171ms/step - loss: 0.0250 - accuracy: 0.9937 - val_loss: 0.0990 - val_accuracy: 0.9746\n",
            "146/146 [==============================] - 15s 98ms/step - loss: 0.0585 - accuracy: 0.9854\n",
            "Test Accuracy: 98.54%\n"
          ]
        },
        {
          "data": {
            "image/png": "[encoded data removed]",
            "text/plain": [
              "<Figure size 640x480 with 1 Axes>"
            ]
          },
          "metadata": {},
          "output_type": "display_data"
        }
      ],
      "source": [
        "\n",
        "import tensorflow as tf\n",
        "from tensorflow.keras import Sequential\n",
        "from tensorflow.keras.layers import GlobalAveragePooling2D, Dropout, Dense\n",
        "from tensorflow.keras.optimizers import Adam\n",
        "from tensorflow.keras.callbacks import EarlyStopping\n",
        "from tensorflow.keras.applications import MobileNetV2\n",
        "from tensorflow.keras.applications.mobilenet_v2 import preprocess_input\n",
        "import tensorflow_datasets as tfds\n",
        "import numpy as np\n",
        "import matplotlib.pyplot as plt\n",
        "(train_ds, test_ds), info = tfds.load(\n",
        "    'cats_vs_dogs',\n",
        "    split=['train[:80%]', 'train[80%:]'],\n",
        "    with_info=True,\n",
        "    as_supervised=True,\n",
        ")\n",
        "def preprocess_image(image, label):\n",
        "    image = tf.image.resize(image, (224, 224))\n",
        "    image = tf.image.random_flip_left_right(image)\n",
        "    image = tf.image.random_flip_up_down(image)\n",
        "    image = tf.image.random_brightness(image, max_delta=0.2)\n",
        "    image = tf.image.random_contrast(image, lower=0.2, upper=1.8)\n",
        "    image = tf.image.random_hue(image, max_delta=0.1)\n",
        "    image = tf.image.random_saturation(image, lower=0.2, upper=1.8)\n",
        "    image = preprocess_input(image)\n",
        "    return image, label\n",
        "train_ds = train_ds.map(preprocess_image)\n",
        "test_ds = test_ds.map(preprocess_image)\n",
        "batch_size = 32\n",
        "train_ds = train_ds.batch(batch_size)\n",
        "test_ds = test_ds.batch(batch_size)\n",
        "base_model = MobileNetV2(weights='imagenet', include_top=False, input_shape=(224, 224, 3))\n",
        "base_model.trainable = False\n",
        "model = Sequential([\n",
        "    base_model,\n",
        "    GlobalAveragePooling2D(),\n",
        "    Dropout(0.5),\n",
        "    Dense(512, activation='relu'),\n",
        "    Dense(1, activation='sigmoid')\n",
        "])\n",
        "model.compile(optimizer=Adam(learning_rate=0.001), loss='binary_crossentropy', metrics=['accuracy'])\n",
        "early_stopping = EarlyStopping(monitor='val_loss', patience=3, restore_best_weights=True)\n",
        "history = model.fit(train_ds, epochs=20, validation_data=test_ds, callbacks=[early_stopping])\n",
        "test_loss, test_accuracy = model.evaluate(test_ds)\n",
        "print(f'Test Accuracy: {test_accuracy * 100:.2f}%')\n",
        "plt.plot(history.history['accuracy'], label='Training Accuracy')\n",
        "plt.plot(history.history['val_accuracy'], label='Validation Accuracy')\n",
        "plt.xlabel('Epoch')\n",
        "plt.ylabel('Accuracy')\n",
        "plt.legend()\n",
        "plt.show()\n",
        "def display_images_with_predictions(model, dataset, num_images=5):\n",
        "    for images, labels in dataset.take(num_images):\n",
        "        reversed_images = (images + 1.0) / 2.0 * 255.0\n",
        "        reversed_images = tf.cast(reversed_images, tf.uint8)\n",
        "        predictions = model.predict(images)\n",
        "        for i in range(images.shape[0]):\n",
        "            image = reversed_images[i].numpy()\n",
        "            predicted_class = np.round(predictions[i])\n",
        "            plt.figure(figsize=(5, 5))\n",
        "            plt.imshow(image)\n",
        "            class_name = 'Dog' if predicted_class == 1 else 'Cat'\n",
        "            plt.title(f\"Predicted: {class_name}\")\n",
        "            plt.axis('off')\n",
        "            plt.show()\n",
        "display_images_with_predictions(model, test_ds)\n",
        "#Here I just wanted to show how a pre-trained model would do in the datasets to show that it would go to around 98% accuracy when presented with a pre-trained model"
      ]
    }
  ]
}