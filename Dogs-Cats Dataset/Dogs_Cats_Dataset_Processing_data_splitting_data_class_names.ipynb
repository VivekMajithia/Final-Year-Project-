{
  "nbformat": 4,
  "nbformat_minor": 0,
  "metadata": {
    "colab": {
      "provenance": [],
      "gpuType": "V100"
    },
    "kernelspec": {
      "name": "python3",
      "display_name": "Python 3"
    },
    "language_info": {
      "name": "python"
    },
    "accelerator": "GPU"
  },
  "cells": [
    {
      "cell_type": "code",
      "execution_count": 2,
      "metadata": {
        "id": "X5-ynFLJLv-n"
      },
      "outputs": [],
      "source": [
        "import tensorflow as tf\n",
        "import tensorflow_datasets as tfds\n",
        "# Loading the Kaggle Cats vs. Dogs dataset\n",
        "dataset, info = tfds.load('cats_vs_dogs', with_info=True, as_supervised=True)\n",
        "train_ds = dataset['train']\n",
        "# Here we are defining the parameters for processing\n",
        "img_height, img_width = 360, 360\n",
        "batch_size = 32\n",
        "# Preparing the dataset for training\n",
        "train_ds = train_ds.map(lambda image, label: (tf.image.resize(image, (img_height, img_width)), label))\n",
        "train_ds = train_ds.shuffle(buffer_size=1000, seed=123)\n",
        "train_ds = train_ds.batch(batch_size)\n"
      ]
    },
    {
      "cell_type": "code",
      "source": [
        "# Loading the Kaggle Cats vs. Dogs dataset\n",
        "dataset, info = tfds.load('cats_vs_dogs', with_info=True, as_supervised=True)\n",
        "train_ds = dataset['train']\n",
        "# Here we are defining the parameters for processing\n",
        "img_height, img_width = 224, 224\n",
        "batch_size = 32\n",
        "# Here we are splitting the dataset into training and validation sets\n",
        "validation_percentage = 0.2\n",
        "num_validation_examples = int(validation_percentage * info.splits['train'].num_examples)\n",
        "val_ds = train_ds.take(num_validation_examples)\n",
        "train_ds = train_ds.skip(num_validation_examples)\n"
      ],
      "metadata": {
        "id": "nR9Au00-UeZ9"
      },
      "execution_count": 3,
      "outputs": []
    },
    {
      "cell_type": "code",
      "source": [
        "dataset, info = tfds.load('cats_vs_dogs', with_info=True, as_supervised=True)\n",
        "class_names = ['cat', 'dog']\n",
        "\n",
        "# Here we are printing the class names , for cat/dog, there should be only 2 classes\n",
        "print(class_names)\n"
      ],
      "metadata": {
        "colab": {
          "base_uri": "https://localhost:8080/"
        },
        "id": "TrG4KvQsUe-M",
        "outputId": "dfdb3fce-3fb0-41e5-9c70-69c994698bca"
      },
      "execution_count": 4,
      "outputs": [
        {
          "output_type": "stream",
          "name": "stdout",
          "text": [
            "['cat', 'dog']\n"
          ]
        }
      ]
    },
    {
      "cell_type": "code",
      "source": [
        "from google.colab import drive\n",
        "drive.mount('/content/drive')"
      ],
      "metadata": {
        "colab": {
          "base_uri": "https://localhost:8080/"
        },
        "id": "A10SA5dYL2xX",
        "outputId": "16dcf8eb-8573-4dfa-c847-49a5798f688b"
      },
      "execution_count": 1,
      "outputs": [
        {
          "output_type": "stream",
          "name": "stdout",
          "text": [
            "Mounted at /content/drive\n"
          ]
        }
      ]
    }
  ]
}