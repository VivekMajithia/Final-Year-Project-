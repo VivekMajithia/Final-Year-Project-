{
  "nbformat": 4,
  "nbformat_minor": 0,
  "metadata": {
    "colab": {
      "provenance": []
    },
    "kernelspec": {
      "name": "python3",
      "display_name": "Python 3"
    },
    "language_info": {
      "name": "python"
    }
  },
  "cells": [
    {
      "cell_type": "code",
      "execution_count": null,
      "metadata": {
        "colab": {
          "base_uri": "https://localhost:8080/"
        },
        "id": "3iz0aCAQxXF3",
        "outputId": "dc91eab6-7818-43ba-de62-77d30b8b0016"
      },
      "outputs": [
        {
          "name": "stdout",
          "output_type": "stream",
          "text": [
            "Number of training examples: 18610\n",
            "Number of validation examples: 2326\n",
            "Number of test examples: 2326\n",
            "Total number of images in the Kaggle Cats vs Dogs dataset: 23262\n"
          ]
        }
      ],
      "source": [
        "import tensorflow as tf\n",
        "import tensorflow_datasets as tfds\n",
        "#Here we are loading the dataset using the pre-existing libraries\n",
        "kaggle_dataset, kaggle_info = tfds.load(\n",
        "    'cats_vs_dogs',\n",
        "    split=['train[:80%]', 'train[80%:90%]', 'train[90%:]'],  # Train, validation, test splits\n",
        "    with_info=True,\n",
        "    as_supervised=True\n",
        ")\n",
        "# This will get the number of examples from the dataset\n",
        "num_train_examples = kaggle_info.splits['train[:80%]'].num_examples\n",
        "num_val_examples = kaggle_info.splits['train[80%:90%]'].num_examples\n",
        "num_test_examples = kaggle_info.splits['train[90%:]'].num_examples\n",
        "print(\"Number of training examples:\", num_train_examples)\n",
        "print(\"Number of validation examples:\", num_val_examples)\n",
        "print(\"Number of test examples:\", num_test_examples)\n",
        "#This will get the total number of images\n",
        "total_images = num_train_examples + num_val_examples + num_test_examples\n",
        "print(\"Total number of images in the Kaggle Cats vs Dogs dataset:\", total_images)\n"
      ]
    }
  ]
}