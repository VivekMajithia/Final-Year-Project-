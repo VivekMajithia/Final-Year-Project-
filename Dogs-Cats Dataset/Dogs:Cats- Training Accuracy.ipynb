{
  "nbformat": 4,
  "nbformat_minor": 0,
  "metadata": {
    "colab": {
      "provenance": [],
      "gpuType": "T4"
    },
    "kernelspec": {
      "name": "python3",
      "display_name": "Python 3"
    },
    "language_info": {
      "name": "python"
    },
    "accelerator": "GPU"
  },
  "cells": [
    {
      "cell_type": "code",
      "source": [],
      "metadata": {
        "id": "5Re_aDPdubnn"
      },
      "execution_count": null,
      "outputs": []
    },
    {
      "cell_type": "code",
      "source": [
        "import tensorflow as tf\n",
        "from tensorflow.keras import Sequential\n",
        "from tensorflow.keras.layers import Conv2D, MaxPooling2D, Flatten, Dense, Dropout\n",
        "from tensorflow.keras.callbacks import Callback\n",
        "import tensorflow_datasets as tfds\n",
        "(dataset, dataset_info) = tfds.load('cats_vs_dogs', split='train[:80%]', with_info=True, as_supervised=True)\n",
        "num_classes = dataset_info.features['label'].num_classes\n",
        "def preprocess_image(image, label):\n",
        "    image = tf.image.resize(image, (224, 224))\n",
        "    image = tf.image.random_flip_left_right(image)\n",
        "    image = tf.image.random_brightness(image, max_delta=0.2)\n",
        "    image = tf.image.random_contrast(image, lower=0.2, upper=1.8)\n",
        "    image = tf.image.random_hue(image, max_delta=0.1)\n",
        "    image = tf.image.random_saturation(image, lower=0.2, upper=1.8)\n",
        "    image = tf.image.per_image_standardization(image)\n",
        "    label = tf.one_hot(label, num_classes)\n",
        "    return image, label\n",
        "dataset = dataset.map(preprocess_image)\n",
        "num_samples = dataset_info.splits['train[:90%]'].num_examples\n",
        "num_train_samples = int(0.8 * num_samples)\n",
        "train_dataset = dataset.take(num_train_samples)\n",
        "val_dataset = dataset.skip(num_train_samples)\n",
        "batch_size = 32\n",
        "train_dataset = train_dataset.batch(batch_size)\n",
        "val_dataset = val_dataset.batch(batch_size)\n",
        "class TrainingAccuracyCallback(Callback):\n",
        "    def on_epoch_end(self, epoch, logs=None):\n",
        "        print(f\"Epoch {epoch + 1}/{self.params['epochs']} - Training Accuracy: {logs['accuracy']:.4f}\")\n",
        "model = Sequential([\n",
        "    Conv2D(32, (3, 3), activation='relu', input_shape=(224, 224, 3)),\n",
        "    MaxPooling2D(2, 2),\n",
        "    Conv2D(64, (3, 3), activation='relu'),\n",
        "    MaxPooling2D(2, 2),\n",
        "    Conv2D(128, (3, 3), activation='relu'),\n",
        "    MaxPooling2D(2, 2),\n",
        "    Flatten(),\n",
        "    Dense(512, activation='relu'),\n",
        "    Dropout(0.5),\n",
        "    Dense(num_classes, activation='softmax')\n",
        "])\n",
        "\n",
        "model.compile(optimizer='adam', loss='categorical_crossentropy', metrics=['accuracy'])\n",
        "accuracy_callback = TrainingAccuracyCallback()\n",
        "history = model.fit(train_dataset, epochs=10, validation_data=val_dataset, callbacks=[accuracy_callback])\n",
        "final_training_accuracy = history.history['accuracy'][-1]\n",
        "print(\"Training accuracy:\", final_training_accuracy)\n"
      ],
      "metadata": {
        "id": "WOUPgK7OidS7",
        "colab": {
          "base_uri": "https://localhost:8080/"
        },
        "outputId": "e8ab5e35-96db-417e-852c-22b3053e5ffb"
      },
      "execution_count": null,
      "outputs": [
        {
          "output_type": "stream",
          "name": "stdout",
          "text": [
            "Epoch 1/10\n",
            "524/524 [==============================] - ETA: 0s - loss: 0.7113 - accuracy: 0.6372Epoch 1/10 - Training Accuracy: 0.6372\n",
            "524/524 [==============================] - 131s 235ms/step - loss: 0.7113 - accuracy: 0.6372 - val_loss: 0.5710 - val_accuracy: 0.7058\n",
            "Epoch 2/10\n",
            "523/524 [============================>.] - ETA: 0s - loss: 0.5508 - accuracy: 0.7234Epoch 2/10 - Training Accuracy: 0.7234\n",
            "524/524 [==============================] - 116s 222ms/step - loss: 0.5507 - accuracy: 0.7234 - val_loss: 0.5170 - val_accuracy: 0.7543\n",
            "Epoch 3/10\n",
            "523/524 [============================>.] - ETA: 0s - loss: 0.4814 - accuracy: 0.7687Epoch 3/10 - Training Accuracy: 0.7688\n",
            "524/524 [==============================] - 113s 216ms/step - loss: 0.4813 - accuracy: 0.7688 - val_loss: 0.4719 - val_accuracy: 0.7717\n",
            "Epoch 4/10\n",
            "523/524 [============================>.] - ETA: 0s - loss: 0.4174 - accuracy: 0.8121Epoch 4/10 - Training Accuracy: 0.8122\n",
            "524/524 [==============================] - 116s 221ms/step - loss: 0.4173 - accuracy: 0.8122 - val_loss: 0.4506 - val_accuracy: 0.7872\n",
            "Epoch 5/10\n",
            "523/524 [============================>.] - ETA: 0s - loss: 0.3609 - accuracy: 0.8423Epoch 5/10 - Training Accuracy: 0.8423\n",
            "524/524 [==============================] - 111s 212ms/step - loss: 0.3608 - accuracy: 0.8423 - val_loss: 0.4446 - val_accuracy: 0.8068\n",
            "Epoch 6/10\n",
            "523/524 [============================>.] - ETA: 0s - loss: 0.3060 - accuracy: 0.8731Epoch 6/10 - Training Accuracy: 0.8731\n",
            "524/524 [==============================] - 112s 214ms/step - loss: 0.3059 - accuracy: 0.8731 - val_loss: 0.4517 - val_accuracy: 0.8130\n",
            "Epoch 7/10\n",
            "523/524 [============================>.] - ETA: 0s - loss: 0.2448 - accuracy: 0.9031Epoch 7/10 - Training Accuracy: 0.9032\n",
            "524/524 [==============================] - 111s 213ms/step - loss: 0.2447 - accuracy: 0.9032 - val_loss: 0.4676 - val_accuracy: 0.8095\n",
            "Epoch 8/10\n",
            "523/524 [============================>.] - ETA: 0s - loss: 0.2007 - accuracy: 0.9245Epoch 8/10 - Training Accuracy: 0.9245\n",
            "524/524 [==============================] - 115s 220ms/step - loss: 0.2006 - accuracy: 0.9245 - val_loss: 0.5117 - val_accuracy: 0.8090\n",
            "Epoch 9/10\n",
            "523/524 [============================>.] - ETA: 0s - loss: 0.1660 - accuracy: 0.9412Epoch 9/10 - Training Accuracy: 0.9412\n",
            "524/524 [==============================] - 113s 215ms/step - loss: 0.1659 - accuracy: 0.9412 - val_loss: 0.6109 - val_accuracy: 0.8128\n",
            "Epoch 10/10\n",
            "523/524 [============================>.] - ETA: 0s - loss: 0.1333 - accuracy: 0.9530Epoch 10/10 - Training Accuracy: 0.9530\n",
            "524/524 [==============================] - 140s 268ms/step - loss: 0.1332 - accuracy: 0.9530 - val_loss: 0.6006 - val_accuracy: 0.8157\n",
            "Training accuracy: 0.953009307384491\n"
          ]
        }
      ]
    }
  ]
}