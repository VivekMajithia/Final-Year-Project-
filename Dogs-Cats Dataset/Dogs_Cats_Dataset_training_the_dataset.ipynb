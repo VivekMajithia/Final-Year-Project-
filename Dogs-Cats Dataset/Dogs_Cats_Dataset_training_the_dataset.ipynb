{
  "nbformat": 4,
  "nbformat_minor": 0,
  "metadata": {
    "colab": {
      "provenance": [],
      "gpuType": "V100"
    },
    "kernelspec": {
      "name": "python3",
      "display_name": "Python 3"
    },
    "language_info": {
      "name": "python"
    },
    "accelerator": "GPU"
  },
  "cells": [
    {
      "cell_type": "code",
      "execution_count": 8,
      "metadata": {
        "colab": {
          "base_uri": "https://localhost:8080/"
        },
        "id": "X5-ynFLJLv-n",
        "outputId": "06807207-ca34-427b-a63c-2bcbdd8b338e"
      },
      "outputs": [
        {
          "output_type": "stream",
          "name": "stdout",
          "text": [
            "Epoch 1/10\n",
            "524/524 [==============================] - ETA: 0s - loss: 0.7487 - accuracy: 0.5316Epoch 1/10 - Training Accuracy: 0.5316\n",
            "524/524 [==============================] - 134s 238ms/step - loss: 0.7487 - accuracy: 0.5316 - val_loss: 0.6938 - val_accuracy: 0.4878\n",
            "Epoch 2/10\n",
            "523/524 [============================>.] - ETA: 0s - loss: 0.6939 - accuracy: 0.5069Epoch 2/10 - Training Accuracy: 0.5069\n",
            "524/524 [==============================] - 140s 267ms/step - loss: 0.6939 - accuracy: 0.5069 - val_loss: 0.6937 - val_accuracy: 0.4878\n",
            "Epoch 3/10\n",
            "523/524 [============================>.] - ETA: 0s - loss: 0.6962 - accuracy: 0.5127Epoch 3/10 - Training Accuracy: 0.5125\n",
            "524/524 [==============================] - 141s 268ms/step - loss: 0.6962 - accuracy: 0.5125 - val_loss: 0.6940 - val_accuracy: 0.4878\n",
            "Epoch 4/10\n",
            "524/524 [==============================] - ETA: 0s - loss: 0.6940 - accuracy: 0.5067Epoch 4/10 - Training Accuracy: 0.5067\n",
            "524/524 [==============================] - 121s 231ms/step - loss: 0.6940 - accuracy: 0.5067 - val_loss: 0.6933 - val_accuracy: 0.4878\n",
            "Epoch 5/10\n",
            "523/524 [============================>.] - ETA: 0s - loss: 0.6941 - accuracy: 0.5121Epoch 5/10 - Training Accuracy: 0.5120\n",
            "524/524 [==============================] - 140s 267ms/step - loss: 0.6941 - accuracy: 0.5120 - val_loss: 0.6943 - val_accuracy: 0.4878\n",
            "Epoch 6/10\n",
            "523/524 [============================>.] - ETA: 0s - loss: 0.6736 - accuracy: 0.5720Epoch 6/10 - Training Accuracy: 0.5720\n",
            "524/524 [==============================] - 120s 229ms/step - loss: 0.6738 - accuracy: 0.5720 - val_loss: 0.6193 - val_accuracy: 0.6394\n",
            "Epoch 7/10\n",
            "523/524 [============================>.] - ETA: 0s - loss: 0.5702 - accuracy: 0.7005Epoch 7/10 - Training Accuracy: 0.7006\n",
            "524/524 [==============================] - 120s 228ms/step - loss: 0.5706 - accuracy: 0.7006 - val_loss: 0.5009 - val_accuracy: 0.7524\n",
            "Epoch 8/10\n",
            "523/524 [============================>.] - ETA: 0s - loss: 0.4756 - accuracy: 0.7753Epoch 8/10 - Training Accuracy: 0.7753\n",
            "524/524 [==============================] - 140s 267ms/step - loss: 0.4756 - accuracy: 0.7753 - val_loss: 0.4578 - val_accuracy: 0.7872\n",
            "Epoch 9/10\n",
            "523/524 [============================>.] - ETA: 0s - loss: 0.4056 - accuracy: 0.8200Epoch 9/10 - Training Accuracy: 0.8200\n",
            "524/524 [==============================] - 120s 228ms/step - loss: 0.4057 - accuracy: 0.8200 - val_loss: 0.4449 - val_accuracy: 0.7942\n",
            "Epoch 10/10\n",
            "523/524 [============================>.] - ETA: 0s - loss: 0.3367 - accuracy: 0.8541Epoch 10/10 - Training Accuracy: 0.8541\n",
            "524/524 [==============================] - 140s 268ms/step - loss: 0.3371 - accuracy: 0.8541 - val_loss: 0.4174 - val_accuracy: 0.8169\n",
            "Training accuracy: 0.854131817817688\n"
          ]
        }
      ],
      "source": [
        "import tensorflow as tf\n",
        "from tensorflow.keras import Sequential\n",
        "from tensorflow.keras.layers import Conv2D, MaxPooling2D, Flatten, Dense, Dropout\n",
        "from tensorflow.keras.callbacks import Callback\n",
        "import tensorflow_datasets as tfds\n",
        "(dataset, dataset_info) = tfds.load('cats_vs_dogs', split='train[:90%]', with_info=True, as_supervised=True)\n",
        "num_classes = dataset_info.features['label'].num_classes\n",
        "def preprocess_image(image, label):\n",
        "    image = tf.image.resize(image, (224, 224))\n",
        "    image = tf.image.random_flip_left_right(image)\n",
        "    image = tf.image.random_brightness(image, max_delta=0.2)\n",
        "    image = tf.image.random_contrast(image, lower=0.2, upper=1.8)\n",
        "    image = tf.image.random_hue(image, max_delta=0.1)\n",
        "    image = tf.image.random_saturation(image, lower=0.2, upper=1.8)\n",
        "    image = tf.image.per_image_standardization(image)\n",
        "    label = tf.one_hot(label, num_classes)\n",
        "    return image, label\n",
        "dataset = dataset.map(preprocess_image)\n",
        "num_samples = dataset_info.splits['train[:90%]'].num_examples\n",
        "num_train_samples = int(0.8 * num_samples)\n",
        "train_dataset = dataset.take(num_train_samples)\n",
        "val_dataset = dataset.skip(num_train_samples)\n",
        "batch_size = 32\n",
        "train_dataset = train_dataset.batch(batch_size)\n",
        "val_dataset = val_dataset.batch(batch_size)\n",
        "class TrainingAccuracyCallback(Callback):\n",
        "    def on_epoch_end(self, epoch, logs=None):\n",
        "        print(f\"Epoch {epoch + 1}/{self.params['epochs']} - Training Accuracy: {logs['accuracy']:.4f}\")\n",
        "model = Sequential([\n",
        "    Conv2D(32, (3, 3), activation='relu', input_shape=(224, 224, 3)),\n",
        "    MaxPooling2D(2, 2),\n",
        "    Conv2D(64, (3, 3), activation='relu'),\n",
        "    MaxPooling2D(2, 2),\n",
        "    Conv2D(128, (3, 3), activation='relu'),\n",
        "    MaxPooling2D(2, 2),\n",
        "    Flatten(),\n",
        "    Dense(512, activation='relu'),\n",
        "    #Dropout(0.5),\n",
        "    Dense(num_classes, activation='softmax')\n",
        "])\n",
        "\n",
        "model.compile(optimizer='adam', loss='categorical_crossentropy', metrics=['accuracy'])\n",
        "accuracy_callback = TrainingAccuracyCallback()\n",
        "history = model.fit(train_dataset, epochs=10, validation_data=val_dataset, callbacks=[accuracy_callback])\n",
        "final_training_accuracy = history.history['accuracy'][-1]\n",
        "print(\"Training accuracy:\", final_training_accuracy)\n"
      ]
    },
    {
      "cell_type": "code",
      "source": [
        "from google.colab import drive\n",
        "drive.mount('/content/drive')"
      ],
      "metadata": {
        "colab": {
          "base_uri": "https://localhost:8080/"
        },
        "id": "A10SA5dYL2xX",
        "outputId": "16dcf8eb-8573-4dfa-c847-49a5798f688b"
      },
      "execution_count": 1,
      "outputs": [
        {
          "output_type": "stream",
          "name": "stdout",
          "text": [
            "Mounted at /content/drive\n"
          ]
        }
      ]
    }
  ]
}